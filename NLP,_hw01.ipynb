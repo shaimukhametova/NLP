{
  "nbformat": 4,
  "nbformat_minor": 0,
  "metadata": {
    "colab": {
      "provenance": [],
      "collapsed_sections": []
    },
    "kernelspec": {
      "name": "python3",
      "display_name": "Python 3"
    },
    "language_info": {
      "name": "python"
    }
  },
  "cells": [
    {
      "cell_type": "code",
      "execution_count": null,
      "metadata": {
        "colab": {
          "base_uri": "https://localhost:8080/"
        },
        "id": "CJsKH2gbQRLN",
        "outputId": "149d330b-beea-4ef4-b281-8faf0cb44dbe"
      },
      "outputs": [
        {
          "output_type": "execute_result",
          "data": {
            "text/plain": [
              "<re.Match object; span=(0, 10), match='Hello Rosa'>"
            ]
          },
          "metadata": {},
          "execution_count": 24
        }
      ],
      "source": [
        "#Прописываем регулярные выражения для распознавания нескольких различных приветствий в начале установления связи при разговоре\n",
        "import re\n",
        "r = \"(hi|hello|hey)[ ]*([a-z]*)\"\n",
        "re.match(r, 'Hello Rosa', flags=re.IGNORECASE)\n",
        "#<_sre.SRE_Match object; <re.Match object; span=(0, 10), match='Hello Rosa'>"
      ]
    },
    {
      "cell_type": "code",
      "source": [
        "#match() — Ищет совпадение с начала строки\n",
        "re.match(r,\"hi ho, hi ho, it's off to work ...\", flags=re.IGNORECASE)\n",
        "#<_sre.SRE_Match object; span=(0, 5), match='hi ho'>"
      ],
      "metadata": {
        "id": "-dFHq__IQUOD"
      },
      "execution_count": null,
      "outputs": []
    },
    {
      "cell_type": "code",
      "source": [
        "re.match(r, \"hey, what's up\", flags=re.IGNORECASE)\n",
        "#<_sre.SRE_Match object; span=(0, 3), match='hey'>"
      ],
      "metadata": {
        "colab": {
          "base_uri": "https://localhost:8080/"
        },
        "id": "8ots6qEiQUQd",
        "outputId": "59d15986-0b46-4864-8787-cf0d01f8f1f6"
      },
      "execution_count": null,
      "outputs": [
        {
          "output_type": "execute_result",
          "data": {
            "text/plain": [
              "<re.Match object; span=(0, 3), match='hey'>"
            ]
          },
          "metadata": {},
          "execution_count": 26
        }
      ]
    },
    {
      "cell_type": "code",
      "source": [
        "#Детализируем наше регулярное выражение, чтобы ему соответствовало большее количество приветствий\n",
        "#compile() — Компилирует regular expression, на выходе получаем объект, к которому затем можно применять все перечисленные функции\n",
        "r = r\"[^a-z]*([y]o|[h']?ello|ok|hey|(good[ ])?(morn[gin']{0,3}|\"\\\n",
        "    r\"afternoon|even[gin']{0,3}))[\\s,;:]{1,3}([a-z]{1,20})\"\n",
        "re_greeting = re.compile(r, flags=re.IGNORECASE)\n",
        "re_greeting.match('Hello Rosa')\n",
        "#<_sre.SRE_Match object; span=(0, 10), match = 'Hello Rosa'>"
      ],
      "metadata": {
        "colab": {
          "base_uri": "https://localhost:8080/"
        },
        "id": "9wO3TTjWQUS7",
        "outputId": "4b054ccf-b680-457f-c71d-23ba44f5c55f"
      },
      "execution_count": null,
      "outputs": [
        {
          "output_type": "execute_result",
          "data": {
            "text/plain": [
              "<re.Match object; span=(0, 10), match='Hello Rosa'>"
            ]
          },
          "metadata": {},
          "execution_count": 41
        }
      ]
    },
    {
      "cell_type": "code",
      "source": [
        "#Метод groups() возвращает все сопоставимые подгруппы\n",
        "re_greeting.match('Hello Rosa').groups()\n",
        "#('Hello', None, None, 'Rosa')"
      ],
      "metadata": {
        "colab": {
          "base_uri": "https://localhost:8080/"
        },
        "id": "CZW-s6COQUVl",
        "outputId": "1aa2fcd6-7536-41fc-b0cb-83e45c355ef7"
      },
      "execution_count": null,
      "outputs": [
        {
          "output_type": "execute_result",
          "data": {
            "text/plain": [
              "('Hello', None, None, 'Rosa')"
            ]
          },
          "metadata": {},
          "execution_count": 39
        }
      ]
    },
    {
      "cell_type": "code",
      "source": [
        "re_greeting.match(\"Good morning Rosa\")\n",
        "#<_sre.SRE_Match object; span=(0, 17), match = \"Good morning Rosa\">"
      ],
      "metadata": {
        "colab": {
          "base_uri": "https://localhost:8080/"
        },
        "id": "XGmlnRAdQUX4",
        "outputId": "2871f22b-5085-45b0-dfb8-367494a317a9"
      },
      "execution_count": null,
      "outputs": [
        {
          "output_type": "execute_result",
          "data": {
            "text/plain": [
              "<re.Match object; span=(0, 17), match='Good morning Rosa'>"
            ]
          },
          "metadata": {},
          "execution_count": 29
        }
      ]
    },
    {
      "cell_type": "code",
      "source": [
        "#Регулярное выражение не может найти соответствие слова с опечаткой\n",
        "re_greeting.match(\"Good Manning Rosa\")"
      ],
      "metadata": {
        "id": "dfw0V5jpqs7a"
      },
      "execution_count": null,
      "outputs": []
    },
    {
      "cell_type": "code",
      "source": [
        "#Наш чат-бот может разделить различные части приветствия на группы, но он не будет знать о фамилии Розы, тк нет паттерна для сопоставления символов после имени\n",
        "re_greeting.match('Good evening Rosa Parks').groups()\n",
        "#('Good evening', 'Good', 'evening', 'Rosa')    "
      ],
      "metadata": {
        "colab": {
          "base_uri": "https://localhost:8080/"
        },
        "id": "hoNG4CIHQUaR",
        "outputId": "b708aff9-b49e-4923-b899-832d71719731"
      },
      "execution_count": null,
      "outputs": [
        {
          "output_type": "execute_result",
          "data": {
            "text/plain": [
              "('Good evening', 'Good ', 'evening', 'Rosa')"
            ]
          },
          "metadata": {},
          "execution_count": 31
        }
      ]
    },
    {
      "cell_type": "code",
      "source": [
        "re_greeting.match(\"Good Morn'n Rosa\")\n",
        "#<_sre.SRE_Match object; span=(0, 16), match = \"Good Morn'n Rosa\">"
      ],
      "metadata": {
        "colab": {
          "base_uri": "https://localhost:8080/"
        },
        "id": "mFdGm3NqQUcg",
        "outputId": "682f4038-08b4-46aa-fdfb-768c014b3ce7"
      },
      "execution_count": null,
      "outputs": [
        {
          "output_type": "execute_result",
          "data": {
            "text/plain": [
              "<re.Match object; span=(0, 16), match=\"Good Morn'n Rosa\">"
            ]
          },
          "metadata": {},
          "execution_count": 32
        }
      ]
    },
    {
      "cell_type": "code",
      "source": [
        "re_greeting.match(\"yo Rosa\")\n",
        "#<_sre.SRE_Match object; span=(0, 7), match = \"yo Rosa\">"
      ],
      "metadata": {
        "colab": {
          "base_uri": "https://localhost:8080/"
        },
        "id": "SQPP8Al3QUe9",
        "outputId": "3a75ec01-eb34-4954-8578-76096c8e0e4f"
      },
      "execution_count": null,
      "outputs": [
        {
          "output_type": "execute_result",
          "data": {
            "text/plain": [
              "<re.Match object; span=(0, 7), match='yo Rosa'>"
            ]
          },
          "metadata": {},
          "execution_count": 33
        }
      ]
    },
    {
      "cell_type": "code",
      "source": [
        "#Добавив генератор выходных данных. Бот должен что-то сказать. Используем функцию форматирования строк Python для создания шаблона ответа чат-бота\n",
        "my_names = set(['rosa', 'rose', 'chatty', 'chatbot', 'bot', 'chatterbot'])\n",
        "curt_names = set(['hal', 'you', 'u'])\n",
        "greeter_name = ''\n",
        "match = re_greeting.match(input())\n",
        "if match:\n",
        "  at_name = match.groups()[-1]\n",
        "  if at_name in curt_names:\n",
        "    print(\"Good one.\")\n",
        "  elif at_name.lower() in my_names:\n",
        "    print(\"Hi {}, How are you?\".format(greeter_name))"
      ],
      "metadata": {
        "colab": {
          "base_uri": "https://localhost:8080/"
        },
        "id": "fvLPwaOJQnnk",
        "outputId": "a8f49a9b-305d-4d17-de0f-7a5449d12423"
      },
      "execution_count": null,
      "outputs": [
        {
          "output_type": "stream",
          "name": "stdout",
          "text": [
            "Hello, Rosa\n",
            "Hi , How are you?\n"
          ]
        }
      ]
    },
    {
      "cell_type": "code",
      "source": [
        "#Класс Python Counter — особый вид словаря,распределяющий объекты (включая строки) по группам и подсчитывающий их так, как нужно:\n",
        "from collections import Counter\n",
        "Counter(\"Guten Morgen Rosa\".split())\n",
        "#Counter({'Guten': 1, 'Rosa': 1, 'morgen': 1})"
      ],
      "metadata": {
        "colab": {
          "base_uri": "https://localhost:8080/"
        },
        "id": "u-_AEJbnQnsh",
        "outputId": "d15cf1bc-23f3-4ec1-ddc4-5a2a43a9aaba"
      },
      "execution_count": null,
      "outputs": [
        {
          "output_type": "execute_result",
          "data": {
            "text/plain": [
              "Counter({'Guten': 1, 'Morgen': 1, 'Rosa': 1})"
            ]
          },
          "metadata": {},
          "execution_count": 35
        }
      ]
    },
    {
      "cell_type": "code",
      "source": [
        "Counter(\"Good morning, Rosa!\".split())\n",
        "#Counter({'Good': 1, 'Rosa!': 1, 'morning,': 1})"
      ],
      "metadata": {
        "colab": {
          "base_uri": "https://localhost:8080/"
        },
        "id": "MRiAJdFbQnv4",
        "outputId": "30ebb08a-9b5d-4059-8703-abcdd3063a11"
      },
      "execution_count": null,
      "outputs": [
        {
          "output_type": "execute_result",
          "data": {
            "text/plain": [
              "Counter({'Good': 1, 'morning,': 1, 'Rosa!': 1})"
            ]
          },
          "metadata": {},
          "execution_count": 36
        }
      ]
    },
    {
      "cell_type": "code",
      "source": [
        "#Функция permutations() модуля itertools возвращает итератор с последовательными перестановками из элементов входной последовательности iterable\n",
        "from itertools import permutations\n",
        "\n",
        "[\" \".join(combo) for combo in\\\n",
        "     permutations(\"Good morning Rosa!\".split(), 3)]\n",
        "#['Good morning Rosa!',\n",
        "# 'Good Rosa! morning',\n",
        "# 'morning Good Rosa!',\n",
        "# 'morning Rosa! Good',\n",
        "# 'Rosa! Good morning',\n",
        "# 'Rosa! morning Good']"
      ],
      "metadata": {
        "colab": {
          "base_uri": "https://localhost:8080/"
        },
        "id": "JeBTok6nQn2m",
        "outputId": "be6fd22a-5246-4817-a362-15f3c815bf56"
      },
      "execution_count": null,
      "outputs": [
        {
          "output_type": "execute_result",
          "data": {
            "text/plain": [
              "['Good morning Rosa!',\n",
              " 'Good Rosa! morning',\n",
              " 'morning Good Rosa!',\n",
              " 'morning Rosa! Good',\n",
              " 'Rosa! Good morning',\n",
              " 'Rosa! morning Good']"
            ]
          },
          "metadata": {},
          "execution_count": 37
        }
      ]
    },
    {
      "cell_type": "code",
      "source": [
        "s = \"\"\"Find texttbooks with titles containing 'NLP',\n",
        "    or 'natural' and 'language', or\n",
        "    'computational' and 'linguistics'.\"\"\"\n",
        "len(set(s.split()))\n",
        "#Количество перестановок выросло с factorial(3) == 6 в нашем простом приветствии до factorial(12) == 479001600 в длинном высказывании, логика в порядке слов важна\n",
        "import numpy as np\n",
        "np.arange(1, 12 + 1).prod() #factorial(12) = arange(1, 13).prod()\n",
        "#479001600"
      ],
      "metadata": {
        "colab": {
          "base_uri": "https://localhost:8080/"
        },
        "id": "CRaypyquQUhn",
        "outputId": "a5b33aec-c7e1-4069-9ce3-8bc23dc8f834"
      },
      "execution_count": null,
      "outputs": [
        {
          "output_type": "execute_result",
          "data": {
            "text/plain": [
              "479001600"
            ]
          },
          "metadata": {},
          "execution_count": 38
        }
      ]
    }
  ]
}